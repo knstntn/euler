{
 "cells": [
  {
   "cell_type": "code",
   "execution_count": 1,
   "metadata": {},
   "outputs": [],
   "source": [
    "import pandas as pd\n",
    "import numpy as np\n",
    "from sklearn.model_selection import train_test_split\n",
    "from sklearn.metrics import accuracy_score\n",
    "from sklearn.feature_extraction.text import TfidfVectorizer\n",
    "from nltk.stem.snowball import SnowballStemmer\n",
    "import nltk\n",
    "from nltk import word_tokenize\n",
    "from nltk.corpus import stopwords\n",
    "import string\n",
    "from pymystem3 import Mystem\n",
    "\n",
    "lemmatizer = Mystem()\n",
    "stemmer = SnowballStemmer ('russian')\n",
    "vectorizer = TfidfVectorizer()\n",
    "categories_map = {\n",
    "    'bad':0,\n",
    "    'neutral': 1,\n",
    "    'good': 2,\n",
    "}"
   ]
  },
  {
   "cell_type": "code",
   "execution_count": 2,
   "metadata": {},
   "outputs": [],
   "source": [
    "def read_tsv(file, columns):\n",
    "    with open(file) as f:\n",
    "        lines = f.readlines()\n",
    "    lines = [x.strip().split('\\t') for x in lines]\n",
    "    lines = [[np.nan if isinstance(x, str) and (x.isspace() or not x) else x for x in line] for line in lines]\n",
    "    return pd.DataFrame(data=lines, columns=columns)"
   ]
  },
  {
   "cell_type": "code",
   "execution_count": 3,
   "metadata": {},
   "outputs": [],
   "source": [
    "train = read_tsv('train.tsv', [\n",
    "    'context_id',\n",
    "    'context_2',\n",
    "    'context_1',\n",
    "    'context_0',\n",
    "    'reply_id',\n",
    "    'reply',\n",
    "    'label',\n",
    "    'confidence'\n",
    "])\n",
    "train['context_id'] = train['context_id'].apply(pd.to_numeric)\n",
    "train['reply_id'] = train['reply_id'].apply(pd.to_numeric)\n",
    "train['context_2'] = train['context_2'].astype(str)\n",
    "train['context_1'] = train['context_1'].astype(str)\n",
    "train['context_0'] = train['context_0'].astype(str)"
   ]
  },
  {
   "cell_type": "code",
   "execution_count": 4,
   "metadata": {},
   "outputs": [],
   "source": [
    "def preprocess(text):\n",
    "    if text is None:\n",
    "        return None\n",
    "    \n",
    "    text = text.strip()\n",
    "    text = text.lower()\n",
    "#     text = text.translate(str.maketrans('','',string.punctuation))\n",
    "    words = lemmatizer.lemmatize(text)\n",
    "    words = [word.strip('\\n').strip() for word in words]\n",
    "    words = [stemmer.stem(word) for word in words]\n",
    "    text = ' '.join(words)\n",
    "    return text"
   ]
  },
  {
   "cell_type": "code",
   "execution_count": 5,
   "metadata": {
    "scrolled": false
   },
   "outputs": [],
   "source": [
    "train['context_2p'] = train['context_2'].apply(lambda row: preprocess(row))\n",
    "train['context_1p'] = train['context_1'].apply(lambda row: preprocess(row))\n",
    "train['context_0p'] = train['context_0'].apply(lambda row: preprocess(row))\n",
    "train['replyp'] = train['reply'].apply(lambda row: preprocess(row))\n",
    "train['contextp'] = train['context_2p'].fillna('') + '\\n' + \\\n",
    "                    train['context_1p'].fillna('') + '\\n' +\\\n",
    "                    train['context_0p'].fillna('')"
   ]
  },
  {
   "cell_type": "code",
   "execution_count": 6,
   "metadata": {
    "scrolled": false
   },
   "outputs": [],
   "source": [
    "split_factor = 0.8\n",
    "index = len(train)*split_factor\n",
    "index = int(round(index)) \n",
    "ttrain = train[:index]\n",
    "ttest = train[index:]"
   ]
  },
  {
   "cell_type": "code",
   "execution_count": 7,
   "metadata": {},
   "outputs": [],
   "source": [
    "def stack_uneven(arrays, fill_value=0.):\n",
    "    sizes = [a.shape for a in arrays]\n",
    "    max_sizes = np.max(list(zip(*sizes)), -1)\n",
    "    # The resultant array has stacked on the first dimension\n",
    "    result = np.full((len(arrays),) + tuple(max_sizes), fill_value)\n",
    "    for i, a in enumerate(arrays):\n",
    "      # The shape of this array `a`, turned into slices\n",
    "      slices = tuple(slice(0,s) for s in sizes[i])\n",
    "      # Overwrite a block slice of `result` with this array `a`\n",
    "      result[i][slices] = a\n",
    "    return result"
   ]
  },
  {
   "cell_type": "code",
   "execution_count": 8,
   "metadata": {
    "scrolled": false
   },
   "outputs": [],
   "source": [
    "def tfidf(context, reply):\n",
    "    Vcontext = vectorizer.fit_transform([context])\n",
    "    Vreply = vectorizer.fit_transform([reply])\n",
    "    result = np.dot(Vreply.T, Vcontext).todense()\n",
    "#     result = np.dot(Vcontext.T, Vreply).todense()\n",
    "    result = np.asarray(result).flatten()\n",
    "    return result\n",
    "\n",
    "def vectorize(df):\n",
    "    features = []\n",
    "    labels = []\n",
    "    for index, row in df.iterrows():\n",
    "        try:\n",
    "            features.append(tfidf(row['contextp'], row['replyp']))\n",
    "            labels.append(categories_map[row['label']])\n",
    "        except Exception:\n",
    "            pass\n",
    "#             print(Exception, row)\n",
    "    features = stack_uneven(features)\n",
    "    return (features, labels)\n",
    "\n",
    "def pad_zeroes(shape, a):\n",
    "    result = np.zeros(shape)\n",
    "    result[:a.shape[0],:a.shape[1]] = a\n",
    "    return result"
   ]
  },
  {
   "cell_type": "code",
   "execution_count": 14,
   "metadata": {
    "scrolled": true
   },
   "outputs": [
    {
     "name": "stdout",
     "output_type": "stream",
     "text": [
      "0.537965874529615\n"
     ]
    }
   ],
   "source": [
    "def decision_tree():\n",
    "    from sklearn.tree import DecisionTreeClassifier\n",
    "    return DecisionTreeClassifier()\n",
    "\n",
    "def log_reg():\n",
    "    from sklearn.linear_model import LogisticRegression\n",
    "    return LogisticRegression(multi_class='multinomial', solver='newton-cg')\n",
    "\n",
    "X_train, y_train = vectorize(ttrain)\n",
    "X_test, y_test = vectorize(ttest)\n",
    "\n",
    "max_features = max(X_train.shape[1], X_test.shape[1])\n",
    "X_train = pad_zeroes((X_train.shape[0], max_features), X_train)\n",
    "X_test = pad_zeroes((X_test.shape[0], max_features), X_test)\n",
    "\n",
    "# Y = decision_tree().fit(X_train, y_train).predict(X_test)\n",
    "# print(accuracy_score(y_test, Y))\n",
    "\n",
    "Y = log_reg().fit(X_train, y_train).predict(X_test)\n",
    "print(accuracy_score(y_test, Y))"
   ]
  },
  {
   "cell_type": "code",
   "execution_count": 10,
   "metadata": {},
   "outputs": [],
   "source": [
    "public = read_tsv('public.tsv', [\n",
    "    'context_id',\n",
    "    'context_2',\n",
    "    'context_1',\n",
    "    'context_0',\n",
    "    'reply_id',\n",
    "    'reply',\n",
    "])"
   ]
  },
  {
   "cell_type": "code",
   "execution_count": 11,
   "metadata": {},
   "outputs": [],
   "source": [
    "df = public.sort_values(by=['context_id', 'reply_id'], ascending=[True, False])\n",
    "df = df[['context_id', 'reply_id']]\n",
    "df.to_csv('output.tsv', header = None, index=False, sep = '\\t')"
   ]
  }
 ],
 "metadata": {
  "kernelspec": {
   "display_name": "Python 3",
   "language": "python",
   "name": "python3"
  },
  "language_info": {
   "codemirror_mode": {
    "name": "ipython",
    "version": 3
   },
   "file_extension": ".py",
   "mimetype": "text/x-python",
   "name": "python",
   "nbconvert_exporter": "python",
   "pygments_lexer": "ipython3",
   "version": "3.6.3"
  }
 },
 "nbformat": 4,
 "nbformat_minor": 2
}
