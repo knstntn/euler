{
 "cells": [
  {
   "cell_type": "markdown",
   "metadata": {},
   "source": [
    "### Importing libraries and loading digits\n",
    "\n",
    "Shape dataset is (1797, 64) and each image is 8x8"
   ]
  },
  {
   "cell_type": "code",
   "execution_count": 8,
   "metadata": {},
   "outputs": [
    {
     "name": "stdout",
     "output_type": "stream",
     "text": [
      "Shape: (1797, 64)\n"
     ]
    },
    {
     "data": {
      "text/plain": [
       "<matplotlib.image.AxesImage at 0x7f230af4e710>"
      ]
     },
     "execution_count": 8,
     "metadata": {},
     "output_type": "execute_result"
    },
    {
     "data": {
      "image/png": "[encoded data removed]",
      "text/plain": [
       "<matplotlib.figure.Figure at 0x7f2322bd8d30>"
      ]
     },
     "metadata": {},
     "output_type": "display_data"
    },
    {
     "data": {
      "image/png": "[encoded data removed]",
      "text/plain": [
       "<matplotlib.figure.Figure at 0x7f230d039588>"
      ]
     },
     "metadata": {},
     "output_type": "display_data"
    }
   ],
   "source": [
    "%matplotlib inline\n",
    "\n",
    "import numpy as np\n",
    "import pandas as pd\n",
    "from sklearn.base import BaseEstimator, ClassifierMixin\n",
    "from sklearn.model_selection import train_test_split, GridSearchCV\n",
    "from sklearn.metrics import confusion_matrix, accuracy_score, pairwise_distances\n",
    "from sklearn.datasets import load_digits\n",
    "from sklearn.neighbors import KNeighborsClassifier\n",
    "import matplotlib.pyplot as plt\n",
    "\n",
    "digits = load_digits(n_class=10, return_X_y=False)\n",
    "print('Shape:', digits.data.shape)\n",
    "\n",
    "plt.matshow(digits.images[0]) \n",
    "plt.matshow(digits.images[1]) "
   ]
  },
  {
   "cell_type": "markdown",
   "metadata": {},
   "source": [
    "### Utilities and helpers"
   ]
  },
  {
   "cell_type": "code",
   "execution_count": 9,
   "metadata": {},
   "outputs": [],
   "source": [
    "def show_result(y_true, y_pred):\n",
    "    cm = confusion_matrix(y_true, y_pred)\n",
    "\n",
    "    # print(\"Mean squared error: %.2f\" % np.mean((y_pred - y_true) ** 2))\n",
    "    print('Accuracy score: %.2f' % accuracy_score(y_true, y_pred))\n",
    "    print()\n",
    "    print(\"Confusion Matrix\")\n",
    "    print(cm)\n",
    "\n",
    "    area = np.pi * (10 * np.random.rand(len(y_pred)))**2\n",
    "    colors = np.random.rand(len(y_pred))\n",
    "    plt.scatter(y_true, y_pred, s=area, c=colors, alpha=0.5)\n",
    "\n",
    "def train_and_test(classifier):\n",
    "    classifier.fit(X_train, y_train)\n",
    "    Y = classifier.predict(X_test)\n",
    "    show_result(y_test, Y)\n",
    "    \n",
    "def find_best_k(classifier):\n",
    "    parameters = {'k':[1, 2, 3, 4, 5, 6, 7, 8, 9, 10]}\n",
    "    grid_search = GridSearchCV(classifier, parameters, cv=5, scoring='neg_mean_squared_error')\n",
    "    grid_search.fit(X_train, y_train)\n",
    "    print(grid_search.best_params_)\n",
    "\n",
    "    cvres = grid_search.cv_results_\n",
    "    for ms, params in zip(cvres[\"mean_test_score\"], cvres[\"params\"]):\n",
    "        print(int(params[\"k\"]), ':', np.sqrt(-ms))\n",
    "    \n",
    "#     x = np.array(list(map(lambda p: int(p[\"k\"]), cvres[\"params\"])))\n",
    "#     y = np.array(list(map(lambda p: np.sqrt(-ms), cvres[\"mean_test_score\"])))\n",
    "#     plt.plot(x.T, y.T)\n",
    "    \n",
    "    return grid_search.best_params_[\"k\"]"
   ]
  },
  {
   "cell_type": "markdown",
   "metadata": {},
   "source": [
    "### Splitting data"
   ]
  },
  {
   "cell_type": "code",
   "execution_count": 10,
   "metadata": {},
   "outputs": [],
   "source": [
    "(X_train, X_test, y_train, y_test) = train_test_split(digits.data, digits.target, test_size=0.2)"
   ]
  },
  {
   "cell_type": "markdown",
   "metadata": {},
   "source": [
    "### Naive  kNN implementation"
   ]
  },
  {
   "cell_type": "code",
   "execution_count": 11,
   "metadata": {},
   "outputs": [],
   "source": [
    "class NaiveKNNClassifier(BaseEstimator, ClassifierMixin):\n",
    "    def __init__(self, k = None):\n",
    "        self.k = k\n",
    "\n",
    "    def fit(self, X, y):\n",
    "        self.X = X\n",
    "        self.y = y\n",
    "\n",
    "    def predict(self, X_test):\n",
    "        res = np.zeros(len(X_test))\n",
    "        if self.k is None: \n",
    "            return res\n",
    "        \n",
    "        for (i, x) in enumerate(X_test):\n",
    "            distance = self.__distance__(x.reshape(1, len(x)), self.X)\n",
    "            indices = np.argsort(distance).ravel()[:self.k]\n",
    "            res[i] = np.bincount(self.y[indices]).argmax()\n",
    "        return res\n",
    "\n",
    "    def __distance__(self, x, y):\n",
    "        d = pairwise_distances(x, y, 'euclidean', squared=True)\n",
    "        d = np.sqrt(d)\n",
    "        return d"
   ]
  },
  {
   "cell_type": "markdown",
   "metadata": {},
   "source": [
    "### Picking best hyperparameter k"
   ]
  },
  {
   "cell_type": "code",
   "execution_count": 12,
   "metadata": {},
   "outputs": [
    {
     "name": "stdout",
     "output_type": "stream",
     "text": [
      "{'k': 3}\n",
      "1 : 0.6303614851404739\n",
      "2 : 0.7381633812734326\n",
      "3 : 0.5589780913515261\n",
      "4 : 0.6929408449599278\n",
      "5 : 0.6423902823659605\n",
      "6 : 0.7200286084164055\n",
      "7 : 0.6186613154569042\n",
      "8 : 0.6605495276637994\n",
      "9 : 0.6050126956229898\n",
      "10 : 0.6710019098172726\n"
     ]
    }
   ],
   "source": [
    "k = find_best_k(NaiveKNNClassifier())"
   ]
  },
  {
   "cell_type": "markdown",
   "metadata": {},
   "source": [
    "### Outputing naive KNN classifier"
   ]
  },
  {
   "cell_type": "code",
   "execution_count": 13,
   "metadata": {},
   "outputs": [
    {
     "name": "stdout",
     "output_type": "stream",
     "text": [
      "Accuracy score: 0.99\n",
      "\n",
      "Confusion Matrix\n",
      "[[34  0  0  0  0  0  0  0  0  0]\n",
      " [ 0 38  0  0  0  0  0  0  0  0]\n",
      " [ 0  0 35  0  0  0  0  0  0  0]\n",
      " [ 0  0  0 33  0  0  0  1  0  0]\n",
      " [ 0  0  0  0 37  0  0  0  0  0]\n",
      " [ 0  0  0  0  0 41  0  0  0  0]\n",
      " [ 0  0  0  0  0  0 33  0  0  0]\n",
      " [ 0  0  0  0  0  0  0 32  0  0]\n",
      " [ 0  1  0  0  0  0  0  0 47  0]\n",
      " [ 0  1  0  0  0  0  0  0  1 26]]\n"
     ]
    },
    {
     "data": {
      "image/png": "[encoded data removed]",
      "text/plain": [
       "<matplotlib.figure.Figure at 0x7f230ae49630>"
      ]
     },
     "metadata": {},
     "output_type": "display_data"
    }
   ],
   "source": [
    "train_and_test(NaiveKNNClassifier(k))"
   ]
  },
  {
   "cell_type": "markdown",
   "metadata": {},
   "source": [
    "### Using KNeighborsClassifier from sklearn to test data"
   ]
  },
  {
   "cell_type": "code",
   "execution_count": 14,
   "metadata": {},
   "outputs": [
    {
     "name": "stdout",
     "output_type": "stream",
     "text": [
      "Accuracy score: 0.99\n",
      "\n",
      "Confusion Matrix\n",
      "[[34  0  0  0  0  0  0  0  0  0]\n",
      " [ 0 38  0  0  0  0  0  0  0  0]\n",
      " [ 0  0 35  0  0  0  0  0  0  0]\n",
      " [ 0  0  0 33  0  0  0  1  0  0]\n",
      " [ 0  0  0  0 37  0  0  0  0  0]\n",
      " [ 0  0  0  0  0 41  0  0  0  0]\n",
      " [ 0  0  0  0  0  0 33  0  0  0]\n",
      " [ 0  0  0  0  0  0  0 32  0  0]\n",
      " [ 0  1  0  0  0  0  0  0 47  0]\n",
      " [ 0  1  0  0  0  0  0  0  1 26]]\n"
     ]
    },
    {
     "data": {
      "image/png": "[encoded data removed]",
      "text/plain": [
       "<matplotlib.figure.Figure at 0x7f230d0fd908>"
      ]
     },
     "metadata": {},
     "output_type": "display_data"
    }
   ],
   "source": [
    "train_and_test(KNeighborsClassifier(k))"
   ]
  }
 ],
 "metadata": {
  "kernelspec": {
   "display_name": "Python 3",
   "language": "python",
   "name": "python3"
  },
  "language_info": {
   "codemirror_mode": {
    "name": "ipython",
    "version": 3
   },
   "file_extension": ".py",
   "mimetype": "text/x-python",
   "name": "python",
   "nbconvert_exporter": "python",
   "pygments_lexer": "ipython3",
   "version": "3.6.3"
  }
 },
 "nbformat": 4,
 "nbformat_minor": 2
}
