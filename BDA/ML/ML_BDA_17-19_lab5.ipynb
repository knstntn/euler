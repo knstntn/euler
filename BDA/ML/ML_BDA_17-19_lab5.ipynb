{
 "cells": [
  {
   "cell_type": "markdown",
   "metadata": {},
   "source": [
    "### Importing libraries and loading data"
   ]
  },
  {
   "cell_type": "code",
   "execution_count": 13,
   "metadata": {},
   "outputs": [],
   "source": [
    "%matplotlib inline\n",
    "\n",
    "import math\n",
    "import numpy as np\n",
    "import pandas as pd\n",
    "from sklearn.base import BaseEstimator, ClassifierMixin\n",
    "from sklearn.preprocessing import StandardScaler\n",
    "from sklearn.model_selection import train_test_split, GridSearchCV\n",
    "from sklearn.metrics import accuracy_score, pairwise_distances\n",
    "from sklearn.datasets import load_breast_cancer\n",
    "from sklearn.pipeline import make_pipeline\n",
    "from sklearn.linear_model import LogisticRegression\n",
    "import matplotlib.pyplot as plt\n",
    "\n",
    "(data, target) = load_breast_cancer(return_X_y=True)"
   ]
  },
  {
   "cell_type": "markdown",
   "metadata": {},
   "source": [
    "### Utilities and helpers"
   ]
  },
  {
   "cell_type": "code",
   "execution_count": 14,
   "metadata": {},
   "outputs": [],
   "source": [
    "def show_result(y_true, y_pred):\n",
    "    print('Accuracy score: %.4f' % accuracy_score(y_true, y_pred))\n",
    "    print()\n",
    "\n",
    "def train_and_test(classifier):\n",
    "    pipe = make_pipeline(StandardScaler(), classifier)\n",
    "#     pipe = make_pipeline(classifier)\n",
    "    pipe.fit(X_train, y_train)\n",
    "    Y = pipe.predict(X_test)\n",
    "    show_result(y_test, Y)    "
   ]
  },
  {
   "cell_type": "markdown",
   "metadata": {},
   "source": [
    "### Splitting data"
   ]
  },
  {
   "cell_type": "code",
   "execution_count": 15,
   "metadata": {},
   "outputs": [],
   "source": [
    "(X_train, X_test, y_train, y_test) = train_test_split(data, target, test_size=0.2)"
   ]
  },
  {
   "cell_type": "markdown",
   "metadata": {},
   "source": [
    "### Logistic regression implementation"
   ]
  },
  {
   "cell_type": "code",
   "execution_count": 16,
   "metadata": {},
   "outputs": [],
   "source": [
    "class MyLogisticRegression(BaseEstimator, ClassifierMixin):\n",
    "    def __init__(self, \n",
    "                 append_intercept = True, \n",
    "                 learning_rate = 0.01, \n",
    "                 iterations = 3000,\n",
    "                 prediction_threshold = 0.5):\n",
    "        self.append_intercept = append_intercept\n",
    "        self.learning_rate = learning_rate\n",
    "        self.iterations = iterations\n",
    "        self.prediction_threshold = prediction_threshold\n",
    "        \n",
    "    def __sigmoid(self, x):\n",
    "        return 1./(1. + np.exp(-x))\n",
    "    \n",
    "    def __predict_proba(self, X, theta):\n",
    "        logits = np.dot(X, theta)\n",
    "        return self.__sigmoid(logits)\n",
    "    \n",
    "    def __gradients(self, X, y, proba):\n",
    "        gradients = X.T.dot(y - proba)\n",
    "        gradients *= self.learning_rate\n",
    "        return gradients\n",
    "    \n",
    "    def __append_intercept(self, a):\n",
    "        intercept = np.ones((a.shape[0], 1))\n",
    "        return np.hstack((intercept, a))\n",
    "        \n",
    "    def fit(self, X, y):\n",
    "        if self.append_intercept:\n",
    "            X = self.__append_intercept(X)\n",
    "            \n",
    "        theta = np.zeros(X.shape[1])\n",
    "        for iteration in range(self.iterations):\n",
    "            proba = self.__predict_proba(X, theta)\n",
    "            gradients = self.__gradients(X, y, proba)\n",
    "            theta -= gradients\n",
    "            \n",
    "        self.theta = theta\n",
    "\n",
    "    def predict(self, X):\n",
    "        if self.append_intercept:\n",
    "            X = self.__append_intercept(X)\n",
    "            \n",
    "        proba = self.__predict_proba(X, self.theta)\n",
    "        indices = np.argwhere(proba > self.prediction_threshold)\n",
    "        res = np.ones(X.shape[0])\n",
    "        res[indices] = 0\n",
    "        return res"
   ]
  },
  {
   "cell_type": "markdown",
   "metadata": {},
   "source": [
    "### Using MyLogisticRegression classifier"
   ]
  },
  {
   "cell_type": "code",
   "execution_count": 17,
   "metadata": {},
   "outputs": [
    {
     "name": "stderr",
     "output_type": "stream",
     "text": [
      "/home/dev/.local/lib/python3.6/site-packages/ipykernel_launcher.py:13: RuntimeWarning: overflow encountered in exp\n",
      "  del sys.path[0]\n"
     ]
    },
    {
     "name": "stdout",
     "output_type": "stream",
     "text": [
      "Accuracy score: 0.8772\n",
      "\n"
     ]
    }
   ],
   "source": [
    "train_and_test(MyLogisticRegression())"
   ]
  },
  {
   "cell_type": "markdown",
   "metadata": {},
   "source": [
    "### Using LogisticRegression from sklearn to test data"
   ]
  },
  {
   "cell_type": "code",
   "execution_count": 18,
   "metadata": {},
   "outputs": [
    {
     "name": "stdout",
     "output_type": "stream",
     "text": [
      "Accuracy score: 0.9737\n",
      "\n"
     ]
    }
   ],
   "source": [
    "train_and_test(LogisticRegression())"
   ]
  },
  {
   "cell_type": "code",
   "execution_count": null,
   "metadata": {},
   "outputs": [],
   "source": []
  }
 ],
 "metadata": {
  "kernelspec": {
   "display_name": "Python 3",
   "language": "python",
   "name": "python3"
  },
  "language_info": {
   "codemirror_mode": {
    "name": "ipython",
    "version": 3
   },
   "file_extension": ".py",
   "mimetype": "text/x-python",
   "name": "python",
   "nbconvert_exporter": "python",
   "pygments_lexer": "ipython3",
   "version": "3.6.3"
  }
 },
 "nbformat": 4,
 "nbformat_minor": 2
}
