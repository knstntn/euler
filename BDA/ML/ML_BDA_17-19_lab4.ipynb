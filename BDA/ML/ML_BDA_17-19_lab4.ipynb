{
 "cells": [
  {
   "cell_type": "markdown",
   "metadata": {},
   "source": [
    "### Importing libraries and loading digits\n",
    "\n",
    "Shape dataset is (1797, 64) and each image is 8x8"
   ]
  },
  {
   "cell_type": "code",
   "execution_count": 1,
   "metadata": {},
   "outputs": [
    {
     "name": "stdout",
     "output_type": "stream",
     "text": [
      "Shape: (1797, 64)\n"
     ]
    },
    {
     "data": {
      "text/plain": [
       "<matplotlib.image.AxesImage at 0x7f04eedf0358>"
      ]
     },
     "execution_count": 1,
     "metadata": {},
     "output_type": "execute_result"
    },
    {
     "data": {
      "image/png": "[encoded data removed]",
      "text/plain": [
       "<matplotlib.figure.Figure at 0x7f04efb71eb8>"
      ]
     },
     "metadata": {},
     "output_type": "display_data"
    },
    {
     "data": {
      "image/png": "[encoded data removed]",
      "text/plain": [
       "<matplotlib.figure.Figure at 0x7f051d5b6710>"
      ]
     },
     "metadata": {},
     "output_type": "display_data"
    }
   ],
   "source": [
    "%matplotlib inline\n",
    "\n",
    "import numpy as np\n",
    "import pandas as pd\n",
    "from sklearn.base import BaseEstimator, ClassifierMixin\n",
    "from sklearn.model_selection import train_test_split, GridSearchCV\n",
    "from sklearn.metrics import confusion_matrix, accuracy_score, pairwise_distances\n",
    "from sklearn.datasets import load_digits\n",
    "from sklearn.neighbors import KNeighborsClassifier\n",
    "import matplotlib.pyplot as plt\n",
    "\n",
    "digits = load_digits(n_class=10, return_X_y=False)\n",
    "print('Shape:', digits.data.shape)\n",
    "\n",
    "plt.matshow(digits.images[0]) \n",
    "plt.matshow(digits.images[1]) "
   ]
  },
  {
   "cell_type": "markdown",
   "metadata": {},
   "source": [
    "### Utilities and helpers"
   ]
  },
  {
   "cell_type": "code",
   "execution_count": 2,
   "metadata": {},
   "outputs": [],
   "source": [
    "def show_result(y_true, y_pred):\n",
    "    cm = confusion_matrix(y_true, y_pred)\n",
    "\n",
    "    print('Accuracy score: %.8f' % accuracy_score(y_true, y_pred))\n",
    "    print()\n",
    "    print(\"Confusion Matrix\")\n",
    "    print(cm)\n",
    "\n",
    "    plt.scatter(y_true, y_pred, alpha=0.25)\n",
    "\n",
    "def train_and_test(classifier):\n",
    "    classifier.fit(X_train, y_train)\n",
    "    Y = classifier.predict(X_test)\n",
    "    show_result(y_test, Y)\n",
    "    \n",
    "def find_best_k(classifier):\n",
    "    parameters = {'k':[1, 2, 3, 4, 5, 6, 7, 8, 9, 10]}\n",
    "    grid_search = GridSearchCV(classifier, parameters, cv=5, scoring='neg_mean_squared_error')\n",
    "    grid_search.fit(X_train, y_train)\n",
    "    print(grid_search.best_params_)\n",
    "\n",
    "    cvres = grid_search.cv_results_\n",
    "    for ms, params in zip(cvres[\"mean_test_score\"], cvres[\"params\"]):\n",
    "        print(int(params[\"k\"]), ':', np.sqrt(-ms))\n",
    "    \n",
    "    return grid_search.best_params_[\"k\"]"
   ]
  },
  {
   "cell_type": "markdown",
   "metadata": {},
   "source": [
    "### Splitting data"
   ]
  },
  {
   "cell_type": "code",
   "execution_count": 3,
   "metadata": {},
   "outputs": [],
   "source": [
    "indices = np.arange(digits.data.shape[0])\n",
    "np.random.shuffle(indices)\n",
    "\n",
    "data = digits.data[indices]\n",
    "target = digits.target[indices]\n",
    "\n",
    "(X_train, X_test, y_train, y_test) = train_test_split(digits.data, digits.target, test_size=0.2)"
   ]
  },
  {
   "cell_type": "markdown",
   "metadata": {},
   "source": [
    "### Naive  kNN implementation"
   ]
  },
  {
   "cell_type": "code",
   "execution_count": 4,
   "metadata": {},
   "outputs": [],
   "source": [
    "class NaiveKNNClassifier(BaseEstimator, ClassifierMixin):\n",
    "    def __init__(self, k = None):\n",
    "        self.k = k\n",
    "\n",
    "    def fit(self, X, y):\n",
    "        self.X = X\n",
    "        self.y = y\n",
    "\n",
    "    def predict(self, X_test):\n",
    "        res = np.zeros(len(X_test))\n",
    "        if self.k is None: \n",
    "            return res\n",
    "        \n",
    "        diff = X_test[:, np.newaxis, :] - self.X[np.newaxis, :, :]\n",
    "        diff = diff ** 2\n",
    "        diff = diff.sum(-1)\n",
    "        diff = np.argsort(diff, axis=1)[:, :self.k]\n",
    "        return np.apply_along_axis(self.__weight, 1, diff)\n",
    "    \n",
    "    def __weight(self, a):\n",
    "        return np.bincount(self.y[a]).argmax()"
   ]
  },
  {
   "cell_type": "markdown",
   "metadata": {},
   "source": [
    "### kNN with Potential Function"
   ]
  },
  {
   "cell_type": "code",
   "execution_count": 5,
   "metadata": {},
   "outputs": [],
   "source": [
    "class PotentialKNNClassifier(BaseEstimator, ClassifierMixin):\n",
    "    def fit(self, X, y):\n",
    "        self.X = self.__normalize(X)\n",
    "        self.y = y\n",
    "        self.classes = np.arange(self.y.max() + 1)\n",
    "        self.gammas = np.zeros(self.X.shape[0])\n",
    "        \n",
    "        epsilon = 0.95\n",
    "        iteration = 0\n",
    "        max_score = -1\n",
    "        max_gammas = np.copy(self.gammas)\n",
    "        max_iterations = 50000\n",
    "        \n",
    "        while True:\n",
    "            index = np.random.randint(0, high=self.X.shape[0], size=1)\n",
    "            prediction = self.__fit(X[index])\n",
    "            change = np.argwhere(prediction != self.y[index])\n",
    "            if len(prediction[change]) > 0:\n",
    "                self.gammas[index] = self.gammas[index] + 1\n",
    "            \n",
    "            if iteration % 500 == 0:\n",
    "                score = self.score(X, y)\n",
    "                print(iteration, ':', score, ':', self.gammas)\n",
    "                \n",
    "                if score > epsilon: break\n",
    "                    \n",
    "                if score > max_score:\n",
    "                    max_score = score\n",
    "                    max_gammas = np.copy(self.gammas)\n",
    "                    \n",
    "            if iteration > max_iterations:\n",
    "                self.gammas = max_gammas\n",
    "                print('Stopping at:', score, ':', self.gammas)\n",
    "                break\n",
    "                \n",
    "            iteration += 1\n",
    "                \n",
    "\n",
    "    def predict(self, X_test):\n",
    "        return self.__fit(X_test)\n",
    "    \n",
    "    def __normalize(self, X):\n",
    "        return (X - X.mean()) / X.std()\n",
    "    \n",
    "    def __fit(self, X_test):\n",
    "        distances = X_test[:, np.newaxis, :] - self.X[np.newaxis, :, :]\n",
    "        distances = distances ** 2\n",
    "        distances = distances.sum(-1)\n",
    "        \n",
    "        max = np.full((distances.shape[0],), -1)\n",
    "        max_class = np.full((distances.shape[0],), -1)\n",
    "        \n",
    "        for _, c in enumerate(self.classes):\n",
    "            indices = np.argwhere(self.y == c)\n",
    "            \n",
    "            gammas = self.gammas[indices].ravel()\n",
    "            dist = distances[:, indices]\n",
    "            dist = dist.reshape(dist.shape[0], dist.shape[1])\n",
    "            val = self.__kernel1(dist).dot(gammas)\n",
    "            \n",
    "            change = np.argwhere(val > max)\n",
    "            max[change] = val[change]\n",
    "            max_class[change] = c\n",
    "\n",
    "        return max_class\n",
    "    \n",
    "    def __kernel1(self, dist):\n",
    "        dist = dist/10000\n",
    "        ones = np.ones(dist.shape)\n",
    "        return ones / (dist + ones)\n",
    "    \n",
    "    def __kernel2(self, dist):\n",
    "        rad = 10000\n",
    "        alpha = 1\n",
    "        return np.exp(-dist/rad)/(dist + alpha)"
   ]
  },
  {
   "cell_type": "markdown",
   "metadata": {},
   "source": [
    "### Weighted kNN"
   ]
  },
  {
   "cell_type": "code",
   "execution_count": null,
   "metadata": {},
   "outputs": [
    {
     "name": "stdout",
     "output_type": "stream",
     "text": [
      "0 : 0.10160055671537926 : [0. 0. 0. ... 0. 0. 0.]\n",
      "500 : 0.2609603340292276 : [1. 0. 0. ... 0. 1. 0.]\n",
      "1000 : 0.47529575504523314 : [1. 0. 0. ... 0. 1. 0.]\n",
      "1500 : 0.5908141962421712 : [2. 0. 1. ... 0. 1. 0.]\n",
      "2000 : 0.5762004175365344 : [2. 0. 1. ... 0. 1. 1.]\n",
      "2500 : 0.5859429366736256 : [2. 0. 1. ... 0. 1. 1.]\n",
      "3000 : 0.7926235212247739 : [3. 0. 1. ... 0. 1. 1.]\n",
      "3500 : 0.6896311760612387 : [3. 0. 1. ... 0. 1. 1.]\n",
      "4000 : 0.7118997912317327 : [3. 0. 1. ... 1. 1. 1.]\n",
      "4500 : 0.8016701461377871 : [3. 2. 1. ... 2. 1. 1.]\n",
      "5000 : 0.6931106471816284 : [3. 2. 1. ... 2. 1. 1.]\n",
      "5500 : 0.6221294363256785 : [3. 4. 1. ... 2. 2. 1.]\n",
      "6000 : 0.8016701461377871 : [3. 4. 1. ... 2. 2. 1.]\n",
      "6500 : 0.8705636743215032 : [3. 4. 1. ... 2. 2. 1.]\n",
      "7000 : 0.7390396659707724 : [3. 4. 1. ... 2. 2. 1.]\n",
      "7500 : 0.5880306193458594 : [3. 4. 1. ... 3. 3. 1.]\n",
      "8000 : 0.8580375782881002 : [3. 4. 1. ... 3. 3. 1.]\n",
      "8500 : 0.7543493389004872 : [3. 4. 1. ... 3. 3. 1.]\n",
      "9000 : 0.837160751565762 : [3. 4. 1. ... 3. 3. 1.]\n",
      "9500 : 0.8531663187195546 : [3. 7. 1. ... 3. 3. 2.]\n",
      "10000 : 0.7118997912317327 : [3. 8. 1. ... 3. 3. 2.]\n"
     ]
    }
   ],
   "source": [
    "train_and_test(PotentialKNNClassifier())"
   ]
  },
  {
   "cell_type": "markdown",
   "metadata": {},
   "source": [
    "### Outputing naive KNN classifier"
   ]
  },
  {
   "cell_type": "code",
   "execution_count": null,
   "metadata": {},
   "outputs": [],
   "source": [
    "k = 3\n",
    "train_and_test(NaiveKNNClassifier(k))"
   ]
  },
  {
   "cell_type": "markdown",
   "metadata": {},
   "source": [
    "### Using KNeighborsClassifier from sklearn to test data"
   ]
  },
  {
   "cell_type": "code",
   "execution_count": null,
   "metadata": {},
   "outputs": [],
   "source": [
    "train_and_test(KNeighborsClassifier(k))"
   ]
  }
 ],
 "metadata": {
  "kernelspec": {
   "display_name": "Python 3",
   "language": "python",
   "name": "python3"
  },
  "language_info": {
   "codemirror_mode": {
    "name": "ipython",
    "version": 3
   },
   "file_extension": ".py",
   "mimetype": "text/x-python",
   "name": "python",
   "nbconvert_exporter": "python",
   "pygments_lexer": "ipython3",
   "version": "3.6.3"
  }
 },
 "nbformat": 4,
 "nbformat_minor": 2
}
