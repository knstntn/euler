{
 "cells": [
  {
   "cell_type": "markdown",
   "metadata": {},
   "source": [
    "### Importing libraries and loading digits\n",
    "\n",
    "Shape dataset is (1797, 64) and each image is 8x8"
   ]
  },
  {
   "cell_type": "code",
   "execution_count": 2,
   "metadata": {},
   "outputs": [
    {
     "name": "stdout",
     "output_type": "stream",
     "text": [
      "Shape: (1797, 64)\n"
     ]
    },
    {
     "data": {
      "text/plain": [
       "<matplotlib.image.AxesImage at 0x7f44279b54a8>"
      ]
     },
     "execution_count": 2,
     "metadata": {},
     "output_type": "execute_result"
    },
    {
     "data": {
      "image/png": "[encoded data removed]",
      "text/plain": [
       "<matplotlib.figure.Figure at 0x7f44285aca90>"
      ]
     },
     "metadata": {},
     "output_type": "display_data"
    },
    {
     "data": {
      "image/png": "[encoded data removed]",
      "text/plain": [
       "<matplotlib.figure.Figure at 0x7f442858ec88>"
      ]
     },
     "metadata": {},
     "output_type": "display_data"
    }
   ],
   "source": [
    "%matplotlib inline\n",
    "\n",
    "import numpy as np\n",
    "import pandas as pd\n",
    "from sklearn.base import BaseEstimator, ClassifierMixin\n",
    "from sklearn.model_selection import train_test_split, GridSearchCV\n",
    "from sklearn.metrics import confusion_matrix, accuracy_score, pairwise_distances\n",
    "from sklearn.datasets import load_digits\n",
    "from sklearn.neighbors import KNeighborsClassifier\n",
    "import matplotlib.pyplot as plt\n",
    "\n",
    "digits = load_digits(n_class=10, return_X_y=False)\n",
    "print('Shape:', digits.data.shape)\n",
    "\n",
    "plt.matshow(digits.images[0]) \n",
    "plt.matshow(digits.images[1]) "
   ]
  },
  {
   "cell_type": "markdown",
   "metadata": {},
   "source": [
    "### Utilities and helpers"
   ]
  },
  {
   "cell_type": "code",
   "execution_count": 3,
   "metadata": {},
   "outputs": [],
   "source": [
    "def show_result(y_true, y_pred):\n",
    "    cm = confusion_matrix(y_true, y_pred)\n",
    "\n",
    "    print('Accuracy score: %.8f' % accuracy_score(y_true, y_pred))\n",
    "    print()\n",
    "    print(\"Confusion Matrix\")\n",
    "    print(cm)\n",
    "\n",
    "    plt.scatter(y_true, y_pred, alpha=0.25)\n",
    "\n",
    "def train_and_test(classifier):\n",
    "    classifier.fit(X_train, y_train)\n",
    "    Y = classifier.predict(X_test)\n",
    "    show_result(y_test, Y)\n",
    "    \n",
    "def find_best_k(classifier):\n",
    "    parameters = {'k':[1, 2, 3, 4, 5, 6, 7, 8, 9, 10]}\n",
    "    grid_search = GridSearchCV(classifier, parameters, cv=5, scoring='neg_mean_squared_error')\n",
    "    grid_search.fit(X_train, y_train)\n",
    "    print(grid_search.best_params_)\n",
    "\n",
    "    cvres = grid_search.cv_results_\n",
    "    for ms, params in zip(cvres[\"mean_test_score\"], cvres[\"params\"]):\n",
    "        print(int(params[\"k\"]), ':', np.sqrt(-ms))\n",
    "    \n",
    "    return grid_search.best_params_[\"k\"]"
   ]
  },
  {
   "cell_type": "markdown",
   "metadata": {},
   "source": [
    "### Splitting data"
   ]
  },
  {
   "cell_type": "code",
   "execution_count": 4,
   "metadata": {},
   "outputs": [],
   "source": [
    "indices = np.arange(digits.data.shape[0])\n",
    "np.random.shuffle(indices)\n",
    "\n",
    "data = digits.data[indices]\n",
    "target = digits.target[indices]\n",
    "\n",
    "(X_train, X_test, y_train, y_test) = train_test_split(digits.data, digits.target, test_size=0.2)"
   ]
  },
  {
   "cell_type": "markdown",
   "metadata": {},
   "source": [
    "### Naive  kNN implementation"
   ]
  },
  {
   "cell_type": "code",
   "execution_count": 5,
   "metadata": {},
   "outputs": [],
   "source": [
    "class NaiveKNNClassifier(BaseEstimator, ClassifierMixin):\n",
    "    def __init__(self, k = None):\n",
    "        self.k = k\n",
    "\n",
    "    def fit(self, X, y):\n",
    "        self.X = X\n",
    "        self.y = y\n",
    "\n",
    "    def predict(self, X_test):\n",
    "        res = np.zeros(len(X_test))\n",
    "        if self.k is None: \n",
    "            return res\n",
    "        \n",
    "        diff = X_test[:, np.newaxis, :] - self.X[np.newaxis, :, :]\n",
    "        diff = diff ** 2\n",
    "        diff = diff.sum(-1)\n",
    "        diff = np.argsort(diff, axis=1)[:, :self.k]\n",
    "        return np.apply_along_axis(self.__weight, 1, diff)\n",
    "    \n",
    "    def __weight(self, a):\n",
    "        return np.bincount(self.y[a]).argmax()"
   ]
  },
  {
   "cell_type": "markdown",
   "metadata": {},
   "source": [
    "### kNN with Potential Function"
   ]
  },
  {
   "cell_type": "code",
   "execution_count": 6,
   "metadata": {},
   "outputs": [],
   "source": [
    "class PotentialKNNClassifier(BaseEstimator, ClassifierMixin):\n",
    "    def fit(self, X, y):\n",
    "        self.X = self.__normalize(X)\n",
    "        self.y = y\n",
    "        self.classes = np.arange(self.y.max() + 1)\n",
    "        self.gammas = np.zeros(self.X.shape[0])\n",
    "        \n",
    "        epsilon = 0.95\n",
    "        iteration = 0\n",
    "        max_score = -1\n",
    "        max_gammas = np.copy(self.gammas)\n",
    "        max_iterations = 50000\n",
    "        convergence_check_iterations = 750\n",
    "        \n",
    "        while True:\n",
    "            index = np.random.randint(0, high=self.X.shape[0], size=1)\n",
    "            prediction = self.__fit(X[index])\n",
    "            change = np.argwhere(prediction != self.y[index])\n",
    "            if len(prediction[change]) > 0:\n",
    "                self.gammas[index] = self.gammas[index] + 1\n",
    "            \n",
    "            if iteration % convergence_check_iterations == 0:\n",
    "                score = self.score(X, y)\n",
    "                if score > epsilon: break\n",
    "                    \n",
    "                if score > max_score:\n",
    "                    print(iteration, ':', score, '-- updating max score')\n",
    "                    max_score = score\n",
    "                    max_gammas = np.copy(self.gammas)\n",
    "                else:\n",
    "                    print(iteration, ':', score)\n",
    "                    \n",
    "            if iteration > max_iterations:\n",
    "                self.gammas = max_gammas\n",
    "                print('Stopping at max score:', max_score)\n",
    "                break\n",
    "                \n",
    "            iteration += 1\n",
    "                \n",
    "\n",
    "    def predict(self, X_test):\n",
    "        return self.__fit(X_test)\n",
    "    \n",
    "    def __normalize(self, X):\n",
    "        return (X - X.mean()) / X.std()\n",
    "    \n",
    "    def __fit(self, X_test):\n",
    "        distances = X_test[:, np.newaxis, :] - self.X[np.newaxis, :, :]\n",
    "        distances = distances ** 2\n",
    "        distances = distances.sum(-1)\n",
    "        \n",
    "        max = np.full((distances.shape[0],), -1)\n",
    "        max_class = np.full((distances.shape[0],), -1)\n",
    "        \n",
    "        for _, c in enumerate(self.classes):\n",
    "            indices = np.argwhere(self.y == c)\n",
    "            \n",
    "            gammas = self.gammas[indices].ravel()\n",
    "            dist = distances[:, indices]\n",
    "            dist = dist.reshape(dist.shape[0], dist.shape[1])\n",
    "            val = self.__kernel1(dist).dot(gammas)\n",
    "            \n",
    "            change = np.argwhere(val > max)\n",
    "            max[change] = val[change]\n",
    "            max_class[change] = c\n",
    "\n",
    "        return max_class\n",
    "    \n",
    "    def __kernel1(self, dist):\n",
    "        dist = dist/10000\n",
    "        ones = np.ones(dist.shape)\n",
    "        return ones / (dist + ones)\n",
    "    \n",
    "    def __kernel2(self, dist):\n",
    "        rad = 10000\n",
    "        alpha = 1\n",
    "        return np.exp(-dist/rad)/(dist + alpha)"
   ]
  },
  {
   "cell_type": "markdown",
   "metadata": {},
   "source": [
    "### Weighted kNN"
   ]
  },
  {
   "cell_type": "code",
   "execution_count": 7,
   "metadata": {
    "scrolled": false
   },
   "outputs": [
    {
     "name": "stdout",
     "output_type": "stream",
     "text": [
      "0 : 0.09672929714683368 -- updating max score\n",
      "750 : 0.2978427279053584 -- updating max score\n",
      "1500 : 0.5142658315935977 -- updating max score\n",
      "2250 : 0.5880306193458594 -- updating max score\n",
      "3000 : 0.5824634655532359\n",
      "3750 : 0.7842727905358385 -- updating max score\n",
      "4500 : 0.7585247042449548\n",
      "5250 : 0.6597077244258872\n",
      "6000 : 0.6256089074460682\n",
      "6750 : 0.7668754349338901\n",
      "7500 : 0.8392484342379958 -- updating max score\n",
      "8250 : 0.7835768963117606\n",
      "9000 : 0.8622129436325678 -- updating max score\n",
      "9750 : 0.8037578288100209\n",
      "10500 : 0.8865692414752957 -- updating max score\n",
      "11250 : 0.8107167710508003\n",
      "12000 : 0.8427279053583855\n",
      "12750 : 0.7877522616562282\n",
      "13500 : 0.6840640222686152\n",
      "14250 : 0.8364648573416841\n",
      "15000 : 0.8698677800974252\n",
      "15750 : 0.8573416840640222\n",
      "16500 : 0.824634655532359\n",
      "17250 : 0.8684759916492694\n",
      "18000 : 0.8315935977731385\n",
      "18750 : 0.8872651356993737 -- updating max score\n",
      "19500 : 0.7202505219206681\n",
      "20250 : 0.8649965205288797\n",
      "21000 : 0.8295059151009047\n",
      "21750 : 0.8733472512178149\n",
      "22500 : 0.8524704244954767\n",
      "23250 : 0.8914405010438413 -- updating max score\n",
      "24000 : 0.8357689631176062\n",
      "24750 : 0.8900487125956854\n",
      "25500 : 0.8176757132915797\n",
      "26250 : 0.8712595685455811\n",
      "27000 : 0.8636047320807237\n",
      "27750 : 0.8879610299234516\n",
      "28500 : 0.8448155880306193\n",
      "29250 : 0.9081419624217119 -- updating max score\n",
      "30000 : 0.8823938761308281\n",
      "30750 : 0.8775226165622826\n",
      "31500 : 0.918580375782881 -- updating max score\n",
      "32250 : 0.8629088378566457\n",
      "33000 : 0.8622129436325678\n",
      "33750 : 0.8329853862212944\n",
      "34500 : 0.9157967988865693\n",
      "35250 : 0.8830897703549061\n",
      "36000 : 0.8566457898399443\n",
      "36750 : 0.894919972164231\n",
      "37500 : 0.9206680584551148 -- updating max score\n",
      "38250 : 0.9164926931106472\n",
      "39000 : 0.9164926931106472\n",
      "39750 : 0.9283228949199722 -- updating max score\n",
      "40500 : 0.860125260960334\n",
      "41250 : 0.8782185107863605\n",
      "42000 : 0.9137091162143354\n",
      "42750 : 0.9046624913013221\n",
      "43500 : 0.9123173277661796\n",
      "44250 : 0.8935281837160751\n",
      "45000 : 0.907446068197634\n",
      "45750 : 0.8816979819067502\n",
      "46500 : 0.8677800974251914\n",
      "47250 : 0.9088378566457899\n",
      "48000 : 0.8761308281141267\n",
      "48750 : 0.9199721642310369\n",
      "49500 : 0.8928322894919972\n",
      "Stopping at max score: 0.9283228949199722\n",
      "Accuracy score: 0.93611111\n",
      "\n",
      "Confusion Matrix\n",
      "[[28  0  0  0  0  2  0  0  0  0]\n",
      " [ 0 39  0  0  0  0  0  0  2  2]\n",
      " [ 0  1 37  1  0  0  0  0  1  0]\n",
      " [ 0  0  0 32  0  0  0  0  2  1]\n",
      " [ 0  0  0  0 28  0  1  0  0  0]\n",
      " [ 0  0  0  0  0 32  0  0  1  1]\n",
      " [ 0  0  0  0  0  0 31  0  0  0]\n",
      " [ 0  0  0  0  1  0  0 37  3  1]\n",
      " [ 0  1  0  0  0  0  0  0 38  1]\n",
      " [ 0  0  0  0  0  0  0  0  1 35]]\n"
     ]
    },
    {
     "data": {
      "image/png": "[encoded data removed]",
      "text/plain": [
       "<matplotlib.figure.Figure at 0x7f44279b5860>"
      ]
     },
     "metadata": {},
     "output_type": "display_data"
    }
   ],
   "source": [
    "train_and_test(PotentialKNNClassifier())"
   ]
  },
  {
   "cell_type": "markdown",
   "metadata": {},
   "source": [
    "### Outputing naive KNN classifier"
   ]
  },
  {
   "cell_type": "code",
   "execution_count": 8,
   "metadata": {},
   "outputs": [
    {
     "name": "stdout",
     "output_type": "stream",
     "text": [
      "Accuracy score: 0.98888889\n",
      "\n",
      "Confusion Matrix\n",
      "[[30  0  0  0  0  0  0  0  0  0]\n",
      " [ 0 43  0  0  0  0  0  0  0  0]\n",
      " [ 0  0 40  0  0  0  0  0  0  0]\n",
      " [ 0  0  0 34  0  0  0  1  0  0]\n",
      " [ 0  0  0  0 29  0  0  0  0  0]\n",
      " [ 0  0  0  0  0 34  0  0  0  0]\n",
      " [ 0  0  0  0  0  0 31  0  0  0]\n",
      " [ 0  0  0  0  0  0  0 41  0  1]\n",
      " [ 0  1  0  0  0  0  0  0 39  0]\n",
      " [ 0  0  0  0  0  0  0  0  1 35]]\n"
     ]
    },
    {
     "data": {
      "image/png": "[encoded data removed]",
      "text/plain": [
       "<matplotlib.figure.Figure at 0x7f44517958d0>"
      ]
     },
     "metadata": {},
     "output_type": "display_data"
    }
   ],
   "source": [
    "k = 3\n",
    "train_and_test(NaiveKNNClassifier(k))"
   ]
  },
  {
   "cell_type": "markdown",
   "metadata": {},
   "source": [
    "### Using KNeighborsClassifier from sklearn to test data"
   ]
  },
  {
   "cell_type": "code",
   "execution_count": 9,
   "metadata": {},
   "outputs": [
    {
     "name": "stdout",
     "output_type": "stream",
     "text": [
      "Accuracy score: 0.98888889\n",
      "\n",
      "Confusion Matrix\n",
      "[[30  0  0  0  0  0  0  0  0  0]\n",
      " [ 0 43  0  0  0  0  0  0  0  0]\n",
      " [ 0  0 40  0  0  0  0  0  0  0]\n",
      " [ 0  0  0 34  0  0  0  1  0  0]\n",
      " [ 0  0  0  0 29  0  0  0  0  0]\n",
      " [ 0  0  0  0  0 34  0  0  0  0]\n",
      " [ 0  0  0  0  0  0 31  0  0  0]\n",
      " [ 0  0  0  0  0  0  0 41  0  1]\n",
      " [ 0  1  0  0  0  0  0  0 39  0]\n",
      " [ 0  0  0  0  0  0  0  0  1 35]]\n"
     ]
    },
    {
     "data": {
      "image/png": "[encoded data removed]",
      "text/plain": [
       "<matplotlib.figure.Figure at 0x7f4427839eb8>"
      ]
     },
     "metadata": {},
     "output_type": "display_data"
    }
   ],
   "source": [
    "train_and_test(KNeighborsClassifier(k))"
   ]
  }
 ],
 "metadata": {
  "kernelspec": {
   "display_name": "Python 3",
   "language": "python",
   "name": "python3"
  },
  "language_info": {
   "codemirror_mode": {
    "name": "ipython",
    "version": 3
   },
   "file_extension": ".py",
   "mimetype": "text/x-python",
   "name": "python",
   "nbconvert_exporter": "python",
   "pygments_lexer": "ipython3",
   "version": "3.6.3"
  }
 },
 "nbformat": 4,
 "nbformat_minor": 2
}
